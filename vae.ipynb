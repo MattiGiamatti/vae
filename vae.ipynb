{
 "cells": [
  {
   "cell_type": "markdown",
   "id": "6b3cb01e-e8fd-45c4-8225-2587da55ef06",
   "metadata": {},
   "source": [
    "Variational Autoencoder test\n",
    "\n",
    "Python version: x <br>\n",
    "PyTorch version: y <br>\n",
    "Numpy version: z <br>"
   ]
  },
  {
   "cell_type": "code",
   "execution_count": 227,
   "id": "1a30b3c5-5444-4ec8-a07b-161a2ab9b4c5",
   "metadata": {},
   "outputs": [],
   "source": [
    "import torch\n",
    "from torch.utils.data import Dataset, DataLoader\n",
    "import numpy as np\n",
    "\n",
    "DEVICE = torch.device(\"cpu\")\n",
    "\n",
    "image_size = (16, 16)\n",
    "image_vector_dim = image_size[0] * image_size[1]\n",
    "\n",
    "object_size = (10, 10)\n",
    "\n",
    "input_dimension = image_size[0] * image_size[1]\n",
    "hidden_dimension_encoder = 100\n",
    "latent_dimension = 10\n",
    "hidden_dimension_decoder = 100\n",
    "output_dimension = image_size[0] * image_size[1]\n",
    "\n",
    "dataset_size = 5000\n",
    "batch_size = 10\n",
    "epochs = 16\n",
    "learning_rate = 0.001"
   ]
  },
  {
   "cell_type": "code",
   "execution_count": 228,
   "id": "d4c92c62-dad7-4d9f-b9f4-0194b1f3040a",
   "metadata": {},
   "outputs": [],
   "source": [
    "from typing import Tuple\n",
    "import matplotlib.pyplot as plt\n",
    "\n",
    "class RandomImageDataset(Dataset):\n",
    "    def __init__(self, dataset_size, image_size, object_size):\n",
    "        self.dataset_size = dataset_size\n",
    "        self.image_size = image_size\n",
    "        self.object_size = object_size\n",
    "\n",
    "    def __len__(self) -> int:\n",
    "        return self.dataset_size\n",
    "\n",
    "    def __getitem__(self, idx: int):\n",
    "        z = torch.zeros(self.image_size)\n",
    "        o = torch.ones(self.object_size)\n",
    "\n",
    "        object_x_min = 0\n",
    "        object_x_max = self.image_size[0] - self.object_size[0]\n",
    "        #print(self.image_size[0])\n",
    "        #print(self.object_size[0])\n",
    "        #print(object_x_max)\n",
    "        object_y_min = 0\n",
    "        object_y_max = self.image_size[0] - self.object_size[0]\n",
    "\n",
    "        object_x = np.random.randint(object_x_min, object_x_max)\n",
    "        object_y = np.random.randint(object_y_min, object_y_max)\n",
    "\n",
    "        z[object_x:(object_x+self.object_size[0]), object_y:(object_y+self.object_size[0])] = o        \n",
    "        return z\n",
    "\n",
    "\n",
    "#dataset_test = RandomImageDataset(image_size = image_size)\n",
    "#plt.imshow(dataset_test.__getitem__(123), cmap='gray')\n",
    "#plt.axis('off')\n",
    "#plt.title('Test image')\n",
    "#plt.show()\n",
    "\n",
    "dataset_training = RandomImageDataset(dataset_size=dataset_size, image_size=image_size, object_size=object_size)\n",
    "dataset_testing = RandomImageDataset(dataset_size=dataset_size, image_size=image_size, object_size=object_size)\n",
    "\n",
    "dataloader_training = DataLoader(dataset_training, batch_size=batch_size)\n",
    "dataloader_testing = DataLoader(dataset_testing, batch_size=batch_size)"
   ]
  },
  {
   "cell_type": "code",
   "execution_count": 229,
   "id": "7c336f8d-129b-4fa7-816d-27ee9d53782e",
   "metadata": {},
   "outputs": [],
   "source": [
    "# Encoder\n",
    "class Encoder(torch.nn.Module):\n",
    "    def __init__(self, input_dimension: int, hidden_dimension: int, latent_dimension: int):\n",
    "        super(Encoder, self).__init__()\n",
    "        self.input_dimension = input_dimension\n",
    "        self.hidden_dimension = hidden_dimension\n",
    "        self.latent_dimension = latent_dimension\n",
    "\n",
    "        self.fc0 = torch.nn.Linear(input_dimension, hidden_dimension)\n",
    "        self.fc1 = torch.nn.Linear(hidden_dimension, hidden_dimension)\n",
    "        self.mean = torch.nn.Linear(hidden_dimension, latent_dimension)\n",
    "        self.var = torch.nn.Linear(hidden_dimension, latent_dimension)\n",
    "\n",
    "        self.lrelu = torch.nn.LeakyReLU(0.2)\n",
    "        \n",
    "    def forward(self, data):\n",
    "        t = self.fc0(data)\n",
    "        t = self.lrelu(t)\n",
    "        t = self.fc1(t)\n",
    "        t = self.lrelu(t)\n",
    "        mean = self.mean(t)\n",
    "        var = self.var(t)\n",
    "\n",
    "        return mean, var\n"
   ]
  },
  {
   "cell_type": "code",
   "execution_count": 230,
   "id": "d8e3319b-0baf-4111-9461-61c6669d8b64",
   "metadata": {},
   "outputs": [],
   "source": [
    "# Decoder\n",
    "\n",
    "class Decoder(torch.nn.Module):\n",
    "    def __init__(self, latent_dimension, hidden_dimension, output_dimension):\n",
    "        super(Decoder, self).__init__()\n",
    "        self.latent_dimension = latent_dimension\n",
    "        self.hidden_dimension = hidden_dimension\n",
    "        self.output_dimension = output_dimension\n",
    "\n",
    "        self.fc0 = torch.nn.Linear(latent_dimension, hidden_dimension)\n",
    "        self.fc1 = torch.nn.Linear(hidden_dimension, hidden_dimension)\n",
    "        self.output = torch.nn.Linear(hidden_dimension, output_dimension)\n",
    "\n",
    "        self.lrelu = torch.nn.LeakyReLU(0.2)\n",
    "        \n",
    "    def forward(self, data):\n",
    "        t = self.fc0(data)\n",
    "        t = self.lrelu(t)\n",
    "\n",
    "        t = self.fc1(t)\n",
    "        t = self.lrelu(t)\n",
    "\n",
    "        t = torch.sigmoid(self.output(t))\n",
    "\n",
    "        return t\n",
    "    "
   ]
  },
  {
   "cell_type": "code",
   "execution_count": 231,
   "id": "e2aa6b7a-e4de-4a0c-8297-8fa19a1268b3",
   "metadata": {},
   "outputs": [
    {
     "name": "stdout",
     "output_type": "stream",
     "text": [
      "epoch 0  loss: 140790.23139953613\n",
      "epoch 1  loss: 101999.63314819336\n",
      "epoch 2  loss: 100697.03147888184\n",
      "epoch 3  loss: 97239.00546264648\n",
      "epoch 4  loss: 92166.07276916504\n",
      "epoch 5  loss: 82122.34689331055\n",
      "epoch 6  loss: 70908.75952911377\n",
      "epoch 7  loss: 63987.80810546875\n",
      "epoch 8  loss: 59704.604904174805\n",
      "epoch 9  loss: 56197.43386077881\n",
      "epoch 10  loss: 52928.17088317871\n",
      "epoch 11  loss: 50541.81630706787\n",
      "epoch 12  loss: 48944.69704437256\n",
      "epoch 13  loss: 48238.47389984131\n",
      "epoch 14  loss: 47101.72971343994\n",
      "epoch 15  loss: 46788.41600036621\n"
     ]
    }
   ],
   "source": [
    "# Model\n",
    "\n",
    "class VariationalAutoencoder(torch.nn.Module):\n",
    "    \n",
    "    def __init__(self, input_dimension, hidden_dimension_encoder, latent_dimension, hidden_dimension_decoder, output_dimension):\n",
    "        super(VariationalAutoencoder, self).__init__()\n",
    "        self.encoder = Encoder(input_dimension = input_dimension, hidden_dimension = hidden_dimension_encoder, latent_dimension = latent_dimension)\n",
    "        self.decoder = Decoder(latent_dimension = latent_dimension, hidden_dimension = hidden_dimension_decoder, output_dimension = output_dimension)\n",
    "\n",
    "        \n",
    "    def forward(self, data):\n",
    "        mean, var = self.encoder(data)\n",
    "        e = torch.randn_like(var).to(DEVICE)\n",
    "        z = mean + torch.exp(0.5* var) * e\n",
    "\n",
    "        data_ = self.decoder(z)\n",
    "\n",
    "        return data_, mean, var\n",
    "\n",
    "vae = VariationalAutoencoder(input_dimension, hidden_dimension_encoder, latent_dimension, hidden_dimension_decoder, output_dimension)\n",
    "vae.to(DEVICE)\n",
    "\n",
    "# loss\n",
    "\n",
    "from torch.optim import Adam\n",
    "\n",
    "def vae_loss(data, data_, mean, var):\n",
    "    loss = torch.nn.functional.binary_cross_entropy(data_, data, reduction='sum')\n",
    "    KLD = -0.5 * torch.sum(1+ var - mean.pow(2) - var.exp())\n",
    "    return loss + KLD\n",
    "    \n",
    "optimizer = Adam(vae.parameters(), lr = learning_rate)\n",
    "\n",
    "\n",
    "vae.train()\n",
    "\n",
    "for e in range(epochs):\n",
    "    epoch_loss = 0\n",
    "\n",
    "    for data in dataloader_training:\n",
    "        data = data.view(batch_size, image_vector_dim)\n",
    "        data = data.to(DEVICE)\n",
    "\n",
    "        optimizer.zero_grad()\n",
    "\n",
    "        data_, mean, var = vae(data)\n",
    "        loss = vae_loss(data, data_, mean, var)\n",
    "        \n",
    "        epoch_loss += loss.item()\n",
    "        \n",
    "        loss.backward()\n",
    "        optimizer.step()\n",
    "    print(\"epoch\",e,\" loss:\", epoch_loss)"
   ]
  },
  {
   "cell_type": "code",
   "execution_count": null,
   "id": "abb802ee-7f13-4fc0-9011-91c1bd1c9c1f",
   "metadata": {},
   "outputs": [
    {
     "data": {
      "image/png": "[encoded data removed]",
      "text/plain": [
       "<Figure size 640x480 with 1 Axes>"
      ]
     },
     "metadata": {},
     "output_type": "display_data"
    },
    {
     "data": {
      "image/png": "[encoded data removed]",
      "text/plain": [
       "<Figure size 640x480 with 1 Axes>"
      ]
     },
     "metadata": {},
     "output_type": "display_data"
    },
    {
     "data": {
      "image/png": "[encoded data removed]",
      "text/plain": [
       "<Figure size 640x480 with 1 Axes>"
      ]
     },
     "metadata": {},
     "output_type": "display_data"
    },
    {
     "data": {
      "image/png": "[encoded data removed]",
      "text/plain": [
       "<Figure size 640x480 with 1 Axes>"
      ]
     },
     "metadata": {},
     "output_type": "display_data"
    },
    {
     "data": {
      "image/png": "[encoded data removed]",
      "text/plain": [
       "<Figure size 640x480 with 1 Axes>"
      ]
     },
     "metadata": {},
     "output_type": "display_data"
    },
    {
     "data": {
      "image/png": "[encoded data removed]",
      "text/plain": [
       "<Figure size 640x480 with 1 Axes>"
      ]
     },
     "metadata": {},
     "output_type": "display_data"
    },
    {
     "data": {
      "image/png": "[encoded data removed]",
      "text/plain": [
       "<Figure size 640x480 with 1 Axes>"
      ]
     },
     "metadata": {},
     "output_type": "display_data"
    },
    {
     "data": {
      "image/png": "[encoded data removed]",
      "text/plain": [
       "<Figure size 640x480 with 1 Axes>"
      ]
     },
     "metadata": {},
     "output_type": "display_data"
    },
    {
     "data": {
      "image/png": "[encoded data removed]",
      "text/plain": [
       "<Figure size 640x480 with 1 Axes>"
      ]
     },
     "metadata": {},
     "output_type": "display_data"
    },
    {
     "data": {
      "image/png": "[encoded data removed]",
      "text/plain": [
       "<Figure size 640x480 with 1 Axes>"
      ]
     },
     "metadata": {},
     "output_type": "display_data"
    },
    {
     "name": "stdout",
     "output_type": "stream",
     "text": [
      "torch.Size([10, 16, 16])\n"
     ]
    }
   ],
   "source": [
    "# Visualize\n",
    "\n",
    "vae.eval()\n",
    "\n",
    "for data in dataloader_testing:\n",
    "    data = data.view(batch_size, image_vector_dim)\n",
    "    \n",
    "    data=data.to(DEVICE)\n",
    "\n",
    "    data_, mean, variance = vae(data)\n",
    "    data_ = data_.view(batch_size, image_size[0], image_size[1])\n",
    "    for i in range(batch_size):\n",
    "        im = data_[i]\n",
    "        im_np = im.cpu().detach().numpy()\n",
    "        plt.imshow(im_np, cmap='gray')\n",
    "        plt.axis('off')\n",
    "        plt.title('Test image')\n",
    "        plt.show()\n",
    "    print(data_.shape)\n",
    "    input('jee')\n",
    "\n"
   ]
  },
  {
   "cell_type": "code",
   "execution_count": null,
   "id": "0047598d-208d-447b-8884-314f062a1d0b",
   "metadata": {},
   "outputs": [],
   "source": []
  },
  {
   "cell_type": "code",
   "execution_count": null,
   "id": "b3a50461-4628-4df0-bc07-00474bf1ee23",
   "metadata": {},
   "outputs": [],
   "source": []
  }
 ],
 "metadata": {
  "kernelspec": {
   "display_name": "Python 3 (ipykernel)",
   "language": "python",
   "name": "python3"
  },
  "language_info": {
   "codemirror_mode": {
    "name": "ipython",
    "version": 3
   },
   "file_extension": ".py",
   "mimetype": "text/x-python",
   "name": "python",
   "nbconvert_exporter": "python",
   "pygments_lexer": "ipython3",
   "version": "3.12.0"
  }
 },
 "nbformat": 4,
 "nbformat_minor": 5
}
