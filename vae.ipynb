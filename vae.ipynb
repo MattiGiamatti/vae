{
 "cells": [
  {
   "cell_type": "markdown",
   "id": "6b3cb01e-e8fd-45c4-8225-2587da55ef06",
   "metadata": {},
   "source": [
    "Variational Autoencoder test\n",
    "\n",
    "Python version: x <br>\n",
    "PyTorch version: y <br>\n",
    "Numpy version: z <br>"
   ]
  },
  {
   "cell_type": "code",
   "execution_count": 5,
   "id": "1a30b3c5-5444-4ec8-a07b-161a2ab9b4c5",
   "metadata": {},
   "outputs": [],
   "source": [
    "import torch\n",
    "from torch.utils.data import Dataset, DataLoader\n",
    "import numpy as np"
   ]
  },
  {
   "cell_type": "code",
   "execution_count": 31,
   "id": "d4c92c62-dad7-4d9f-b9f4-0194b1f3040a",
   "metadata": {},
   "outputs": [
    {
     "data": {
      "image/png": "[encoded data removed]",
      "text/plain": [
       "<Figure size 640x480 with 1 Axes>"
      ]
     },
     "metadata": {},
     "output_type": "display_data"
    },
    {
     "name": "stdout",
     "output_type": "stream",
     "text": [
      "\n"
     ]
    }
   ],
   "source": [
    "from typing import Tuple\n",
    "import matplotlib.pyplot as plt\n",
    "\n",
    "class RandomImageDataset(DataLoader):\n",
    "    def __init__(self, num_samples: int=1024, image_size: Tuple[int, int]=(128,128), object_size: Tuple[int, int]=(32,32)):\n",
    "        self.num_samples = num_samples\n",
    "        self.image_size = image_size\n",
    "        self.object_size = object_size\n",
    "\n",
    "    def __len__(self) -> int:\n",
    "        return num_samples\n",
    "\n",
    "    def __getitem__(self, idx: int):\n",
    "        z = torch.zeros(self.image_size)\n",
    "        o = torch.ones(self.object_size)\n",
    "\n",
    "        object_x_min = 0\n",
    "        object_x_max = self.image_size[0] - self.object_size[0]\n",
    "\n",
    "        object_y_min = 0\n",
    "        object_y_max = self.image_size[0] - self.object_size[0]\n",
    "\n",
    "        object_x = np.random.randint(object_x_min, object_x_max)\n",
    "        object_y = np.random.randint(object_y_min, object_y_max)\n",
    "\n",
    "        z[object_x:(object_x+self.object_size[0]), object_y:(object_y+self.object_size[0])] = o        \n",
    "        return z\n",
    "\n",
    "dataset_test = RandomImageDataset()\n",
    "plt.imshow(dataset_test.__getitem__(123), cmap='gray')\n",
    "plt.axis('off')  # Turn off axis\n",
    "plt.title('Grayscale Image')\n",
    "plt.show()\n",
    "\n",
    "print()"
   ]
  },
  {
   "cell_type": "code",
   "execution_count": null,
   "id": "7c336f8d-129b-4fa7-816d-27ee9d53782e",
   "metadata": {},
   "outputs": [],
   "source": [
    "# Encoder\n",
    "class Encoder(torch.nn):\n",
    "    def __init__(self, input_di)):\n",
    "    "
   ]
  },
  {
   "cell_type": "code",
   "execution_count": null,
   "id": "d8e3319b-0baf-4111-9461-61c6669d8b64",
   "metadata": {},
   "outputs": [],
   "source": [
    "# Decoder"
   ]
  }
 ],
 "metadata": {
  "kernelspec": {
   "display_name": "Python 3 (ipykernel)",
   "language": "python",
   "name": "python3"
  },
  "language_info": {
   "codemirror_mode": {
    "name": "ipython",
    "version": 3
   },
   "file_extension": ".py",
   "mimetype": "text/x-python",
   "name": "python",
   "nbconvert_exporter": "python",
   "pygments_lexer": "ipython3",
   "version": "3.12.0"
  }
 },
 "nbformat": 4,
 "nbformat_minor": 5
}
